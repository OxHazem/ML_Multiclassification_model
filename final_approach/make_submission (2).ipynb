{
 "cells": [
  {
   "cell_type": "code",
   "execution_count": 1,
   "id": "aab9ef58",
   "metadata": {},
   "outputs": [
    {
     "name": "stderr",
     "output_type": "stream",
     "text": [
      "<>:3: SyntaxWarning: invalid escape sequence '\\D'\n",
      "<>:3: SyntaxWarning: invalid escape sequence '\\D'\n",
      "C:\\Users\\Omar\\AppData\\Local\\Temp\\ipykernel_24612\\2424447416.py:3: SyntaxWarning: invalid escape sequence '\\D'\n",
      "  model = joblib.load(\"D:\\DownLoad\\projects\\Multi_claasification_model\\\\final_approach\\saved_models\\RandomForest.joblib\")\n"
     ]
    }
   ],
   "source": [
    "#Cell 1: Load your trained model from disk\n",
    "import joblib\n",
    "model = joblib.load(\"D:\\DownLoad\\projects\\Multi_claasification_model\\\\final_approach\\saved_models\\RandomForest.joblib\")"
   ]
  },
  {
   "cell_type": "code",
   "execution_count": 7,
   "id": "6de078e0",
   "metadata": {},
   "outputs": [
    {
     "name": "stderr",
     "output_type": "stream",
     "text": [
      "<>:3: SyntaxWarning: invalid escape sequence '\\D'\n",
      "<>:3: SyntaxWarning: invalid escape sequence '\\D'\n",
      "C:\\Users\\Omar\\AppData\\Local\\Temp\\ipykernel_24612\\804696029.py:3: SyntaxWarning: invalid escape sequence '\\D'\n",
      "  test = pd.read_csv(\"D:\\DownLoad\\projects\\Multi_claasification_model\\data\\\\test.csv\")\n"
     ]
    }
   ],
   "source": [
    "#Cell 2: load test set\n",
    "import pandas as pd\n",
    "test = pd.read_csv(\"D:\\DownLoad\\projects\\Multi_claasification_model\\data\\\\test.csv\")\n",
    "ids = test[\"Id\"]"
   ]
  },
  {
   "cell_type": "code",
   "execution_count": 8,
   "id": "329bdeb0",
   "metadata": {},
   "outputs": [
    {
     "data": {
      "text/html": [
       "<div>\n",
       "<style scoped>\n",
       "    .dataframe tbody tr th:only-of-type {\n",
       "        vertical-align: middle;\n",
       "    }\n",
       "\n",
       "    .dataframe tbody tr th {\n",
       "        vertical-align: top;\n",
       "    }\n",
       "\n",
       "    .dataframe thead th {\n",
       "        text-align: right;\n",
       "    }\n",
       "</style>\n",
       "<table border=\"1\" class=\"dataframe\">\n",
       "  <thead>\n",
       "    <tr style=\"text-align: right;\">\n",
       "      <th></th>\n",
       "      <th>Id</th>\n",
       "      <th>flow_time</th>\n",
       "      <th>header_size</th>\n",
       "      <th>packet_duration</th>\n",
       "      <th>overall_rate</th>\n",
       "      <th>src_rate</th>\n",
       "      <th>dst_rate</th>\n",
       "      <th>fin_packets</th>\n",
       "      <th>urg_packets</th>\n",
       "      <th>rst_packets</th>\n",
       "      <th>...</th>\n",
       "      <th>fin_flags</th>\n",
       "      <th>syn_flags</th>\n",
       "      <th>rst_flags</th>\n",
       "      <th>psh_flags</th>\n",
       "      <th>ack_flags</th>\n",
       "      <th>protocol_http</th>\n",
       "      <th>protocol_https</th>\n",
       "      <th>protocol_tcp</th>\n",
       "      <th>protocol_udp</th>\n",
       "      <th>protocol_icmp</th>\n",
       "    </tr>\n",
       "  </thead>\n",
       "  <tbody>\n",
       "    <tr>\n",
       "      <th>0</th>\n",
       "      <td>0</td>\n",
       "      <td>0.000000</td>\n",
       "      <td>54.0</td>\n",
       "      <td>64.0</td>\n",
       "      <td>249.534700</td>\n",
       "      <td>249.534700</td>\n",
       "      <td>0.0</td>\n",
       "      <td>0.0</td>\n",
       "      <td>0.0</td>\n",
       "      <td>0.0</td>\n",
       "      <td>...</td>\n",
       "      <td>0</td>\n",
       "      <td>0</td>\n",
       "      <td>0</td>\n",
       "      <td>0</td>\n",
       "      <td>0</td>\n",
       "      <td>0</td>\n",
       "      <td>0</td>\n",
       "      <td>1</td>\n",
       "      <td>0</td>\n",
       "      <td>0</td>\n",
       "    </tr>\n",
       "    <tr>\n",
       "      <th>1</th>\n",
       "      <td>1</td>\n",
       "      <td>4.466080</td>\n",
       "      <td>108.0</td>\n",
       "      <td>64.0</td>\n",
       "      <td>0.447820</td>\n",
       "      <td>0.447820</td>\n",
       "      <td>0.0</td>\n",
       "      <td>0.0</td>\n",
       "      <td>0.0</td>\n",
       "      <td>0.0</td>\n",
       "      <td>...</td>\n",
       "      <td>0</td>\n",
       "      <td>1</td>\n",
       "      <td>0</td>\n",
       "      <td>0</td>\n",
       "      <td>0</td>\n",
       "      <td>0</td>\n",
       "      <td>0</td>\n",
       "      <td>1</td>\n",
       "      <td>0</td>\n",
       "      <td>0</td>\n",
       "    </tr>\n",
       "    <tr>\n",
       "      <th>2</th>\n",
       "      <td>2</td>\n",
       "      <td>0.000000</td>\n",
       "      <td>54.0</td>\n",
       "      <td>64.0</td>\n",
       "      <td>1.295361</td>\n",
       "      <td>1.295361</td>\n",
       "      <td>0.0</td>\n",
       "      <td>0.0</td>\n",
       "      <td>1.0</td>\n",
       "      <td>1.0</td>\n",
       "      <td>...</td>\n",
       "      <td>0</td>\n",
       "      <td>0</td>\n",
       "      <td>0</td>\n",
       "      <td>1</td>\n",
       "      <td>1</td>\n",
       "      <td>0</td>\n",
       "      <td>0</td>\n",
       "      <td>1</td>\n",
       "      <td>0</td>\n",
       "      <td>0</td>\n",
       "    </tr>\n",
       "    <tr>\n",
       "      <th>3</th>\n",
       "      <td>3</td>\n",
       "      <td>0.000000</td>\n",
       "      <td>0.0</td>\n",
       "      <td>64.0</td>\n",
       "      <td>2.249081</td>\n",
       "      <td>2.249081</td>\n",
       "      <td>0.0</td>\n",
       "      <td>0.0</td>\n",
       "      <td>0.0</td>\n",
       "      <td>0.0</td>\n",
       "      <td>...</td>\n",
       "      <td>0</td>\n",
       "      <td>0</td>\n",
       "      <td>0</td>\n",
       "      <td>0</td>\n",
       "      <td>0</td>\n",
       "      <td>0</td>\n",
       "      <td>0</td>\n",
       "      <td>0</td>\n",
       "      <td>0</td>\n",
       "      <td>1</td>\n",
       "    </tr>\n",
       "    <tr>\n",
       "      <th>4</th>\n",
       "      <td>4</td>\n",
       "      <td>4.413071</td>\n",
       "      <td>108.0</td>\n",
       "      <td>64.0</td>\n",
       "      <td>0.453199</td>\n",
       "      <td>0.453199</td>\n",
       "      <td>0.0</td>\n",
       "      <td>0.0</td>\n",
       "      <td>0.0</td>\n",
       "      <td>0.0</td>\n",
       "      <td>...</td>\n",
       "      <td>0</td>\n",
       "      <td>0</td>\n",
       "      <td>0</td>\n",
       "      <td>0</td>\n",
       "      <td>0</td>\n",
       "      <td>0</td>\n",
       "      <td>0</td>\n",
       "      <td>1</td>\n",
       "      <td>0</td>\n",
       "      <td>0</td>\n",
       "    </tr>\n",
       "  </tbody>\n",
       "</table>\n",
       "<p>5 rows × 22 columns</p>\n",
       "</div>"
      ],
      "text/plain": [
       "   Id  flow_time  header_size  packet_duration  overall_rate    src_rate  \\\n",
       "0   0   0.000000         54.0             64.0    249.534700  249.534700   \n",
       "1   1   4.466080        108.0             64.0      0.447820    0.447820   \n",
       "2   2   0.000000         54.0             64.0      1.295361    1.295361   \n",
       "3   3   0.000000          0.0             64.0      2.249081    2.249081   \n",
       "4   4   4.413071        108.0             64.0      0.453199    0.453199   \n",
       "\n",
       "   dst_rate  fin_packets  urg_packets  rst_packets  ...  fin_flags  syn_flags  \\\n",
       "0       0.0          0.0          0.0          0.0  ...          0          0   \n",
       "1       0.0          0.0          0.0          0.0  ...          0          1   \n",
       "2       0.0          0.0          1.0          1.0  ...          0          0   \n",
       "3       0.0          0.0          0.0          0.0  ...          0          0   \n",
       "4       0.0          0.0          0.0          0.0  ...          0          0   \n",
       "\n",
       "   rst_flags  psh_flags  ack_flags  protocol_http  protocol_https  \\\n",
       "0          0          0          0              0               0   \n",
       "1          0          0          0              0               0   \n",
       "2          0          1          1              0               0   \n",
       "3          0          0          0              0               0   \n",
       "4          0          0          0              0               0   \n",
       "\n",
       "   protocol_tcp  protocol_udp  protocol_icmp  \n",
       "0             1             0              0  \n",
       "1             1             0              0  \n",
       "2             1             0              0  \n",
       "3             0             0              1  \n",
       "4             1             0              0  \n",
       "\n",
       "[5 rows x 22 columns]"
      ]
     },
     "execution_count": 8,
     "metadata": {},
     "output_type": "execute_result"
    }
   ],
   "source": [
    "df=pd.DataFrame(test)\n",
    "df.head()\n"
   ]
  },
  {
   "cell_type": "code",
   "execution_count": 9,
   "id": "1a06afdd",
   "metadata": {},
   "outputs": [],
   "source": [
    "selected_data_set=['src_rate', 'overall_rate', 'header_size', 'max_value', 'flow_time', 'rst_packets', 'protocol_tcp', 'value_covariance', 'packet_duration', 'urg_packets', 'fin_packets', 'fin_flags', 'dst_rate', 'syn_flags', 'rst_flags']"
   ]
  },
  {
   "cell_type": "code",
   "execution_count": 10,
   "id": "210789a2",
   "metadata": {},
   "outputs": [
    {
     "data": {
      "text/plain": [
       "(104287, 15)"
      ]
     },
     "execution_count": 10,
     "metadata": {},
     "output_type": "execute_result"
    }
   ],
   "source": [
    "#Cell 2c: match train‐features exactly\n",
    "for col in test.select_dtypes(include=['int','float']).columns : \n",
    "    if (col not in selected_data_set) :\n",
    "        df=df.drop(columns=col)\n",
    "    \n",
    "df.shape"
   ]
  },
  {
   "cell_type": "code",
   "execution_count": 11,
   "id": "ea215340",
   "metadata": {},
   "outputs": [
    {
     "name": "stderr",
     "output_type": "stream",
     "text": [
      "d:\\DownLoad\\projects\\Multi_claasification_model\\venv\\Lib\\site-packages\\sklearn\\utils\\validation.py:2732: UserWarning: X has feature names, but RandomForestClassifier was fitted without feature names\n",
      "  warnings.warn(\n"
     ]
    }
   ],
   "source": [
    "#Cell 3: predict\n",
    "y_pred = model.predict(df)"
   ]
  },
  {
   "cell_type": "code",
   "execution_count": 12,
   "id": "78a6f480",
   "metadata": {},
   "outputs": [],
   "source": [
    "#Cell 4: map back to original labels\n",
    "label_map = {\n",
    "    0: \"BenignTraffic\",\n",
    "    1: \"DDoS\",\n",
    "    2: \"DoS\",\n",
    "    3: \"MITM\",\n",
    "    4: \"Mirai\",\n",
    "    5: \"Recon\",\n",
    "}\n",
    "y_named = [label_map[int(p)] for p in y_pred]"
   ]
  },
  {
   "cell_type": "code",
   "execution_count": 13,
   "id": "825621ae",
   "metadata": {},
   "outputs": [
    {
     "name": "stdout",
     "output_type": "stream",
     "text": [
      "✅ submission.csv ready: 104287 rows\n"
     ]
    }
   ],
   "source": [
    "#Cell 5: build & save submission\n",
    "submission = pd.DataFrame({\n",
    "    \"Id\":     ids,\n",
    "    \"Target\": y_named\n",
    "})\n",
    "submission.to_csv(\"submission.csv\", index=False)\n",
    "print(f\"✅ submission.csv ready: {len(submission)} rows\")"
   ]
  },
  {
   "cell_type": "code",
   "execution_count": 14,
   "id": "e68c2801",
   "metadata": {},
   "outputs": [
    {
     "name": "stdout",
     "output_type": "stream",
     "text": [
      "✅ Written submission_named.csv with categorical Target column\n"
     ]
    }
   ],
   "source": [
    "import pandas as pd\n",
    "\n",
    "#Load the CSV with numeric targets\n",
    "df = pd.read_csv(\"submission.csv\")\n",
    "\n",
    "#Define the mapping: integer → category name\n",
    "label_map = {\n",
    "    0: \"BenignTraffic\",\n",
    "    1: \"DDoS\",\n",
    "    2: \"DoS\",\n",
    "    3: \"MITM\",\n",
    "    4: \"Mirai\",\n",
    "    5: \"Recon\",\n",
    "}\n",
    "\n",
    "#Replace the numeric codes with the string labels\n",
    "df[\"Target\"] = df[\"Target\"].map(label_map)\n",
    "\n",
    "#Save to a new CSV (or overwrite the old one)\n",
    "df.to_csv(\"submission_named.csv\", index=False)\n",
    "print(\"✅ Written submission_named.csv with categorical Target column\")"
   ]
  }
 ],
 "metadata": {
  "kernelspec": {
   "display_name": "venv",
   "language": "python",
   "name": "python3"
  },
  "language_info": {
   "codemirror_mode": {
    "name": "ipython",
    "version": 3
   },
   "file_extension": ".py",
   "mimetype": "text/x-python",
   "name": "python",
   "nbconvert_exporter": "python",
   "pygments_lexer": "ipython3",
   "version": "3.12.7"
  }
 },
 "nbformat": 4,
 "nbformat_minor": 5
}
