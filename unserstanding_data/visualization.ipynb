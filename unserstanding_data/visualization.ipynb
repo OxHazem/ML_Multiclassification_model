{
 "cells": [
  {
   "cell_type": "markdown",
   "id": "e1b0c994",
   "metadata": {},
   "source": [
    "Visualizaing for first csv file \n",
    "1- histogram \n",
    "2- corr "
   ]
  },
  {
   "cell_type": "code",
   "execution_count": 1,
   "id": "71504df5",
   "metadata": {},
   "outputs": [],
   "source": [
    "import pandas as pd \n",
    "import seaborn as sns \n",
    "import matplotlib.pyplot as plt"
   ]
  },
  {
   "cell_type": "code",
   "execution_count": 2,
   "id": "935d51a4",
   "metadata": {},
   "outputs": [],
   "source": [
    "# data=pd.read_csv(\"D:\\DownLoad\\projects\\Multi_claasification_model\\data\\Dropping_outliers.csv\")\n",
    "# df=pd.DataFrame(data)\n",
    "# if \"Unnamed: 0\" in df.columns:\n",
    "# \tdf=df.drop(\"Unnamed: 0\", axis=1)"
   ]
  },
  {
   "cell_type": "code",
   "execution_count": 3,
   "id": "53afcdcf",
   "metadata": {},
   "outputs": [],
   "source": [
    "# for col in df.select_dtypes(include=['int','float']).columns : \n",
    "#     plt.figure(figsize=(10,6))\n",
    "#     figure=df[col].hist()\n",
    "#     plt.title(col)\n",
    "    \n",
    "#     plt.tight_layout()\n",
    "#     plt.show()\n"
   ]
  },
  {
   "cell_type": "markdown",
   "id": "37f1aadb",
   "metadata": {},
   "source": [
    "Solve the skewness in the data \n"
   ]
  },
  {
   "cell_type": "code",
   "execution_count": 4,
   "id": "676b42d9",
   "metadata": {},
   "outputs": [],
   "source": [
    "from scipy import stats\n",
    "import numpy as np"
   ]
  },
  {
   "cell_type": "code",
   "execution_count": 5,
   "id": "d7dfc33c",
   "metadata": {},
   "outputs": [],
   "source": [
    "def fix_skewness(data):\n",
    "    skewness = stats.skew(data)  \n",
    "\n",
    "    if data.min() < 0:\n",
    "        data = data + abs(data.min()) + 1\n",
    "    \n",
    "    if skewness > 1:\n",
    "        return np.log1p(data)\n",
    "    elif skewness > 0.5:\n",
    "        return np.sqrt(data)\n",
    "    elif skewness < -0.5:\n",
    "        return np.cbrt(data)\n",
    "    return data"
   ]
  },
  {
   "cell_type": "code",
   "execution_count": 6,
   "id": "d55c4368",
   "metadata": {},
   "outputs": [],
   "source": [
    "# for col in df.select_dtypes(include=['int','float']).columns : \n",
    "#     print(f\"{col}\",stats.skew(df[col]),\"\\n\")\n"
   ]
  },
  {
   "cell_type": "code",
   "execution_count": 7,
   "id": "5522fa54",
   "metadata": {},
   "outputs": [],
   "source": [
    "# for col in df.select_dtypes(include=['int','float']).columns : \n",
    "#     df[col]=fix_skewness(df[col])"
   ]
  },
  {
   "cell_type": "code",
   "execution_count": 8,
   "id": "f97185f9",
   "metadata": {},
   "outputs": [],
   "source": [
    "# for col in df.select_dtypes(include=['int','float']).columns : \n",
    "#     print(f\"{col}\",stats.skew(df[col]),\"\\n\")"
   ]
  },
  {
   "cell_type": "code",
   "execution_count": 9,
   "id": "4da93fce",
   "metadata": {},
   "outputs": [],
   "source": [
    "# for col in df.select_dtypes(include=['int','float']).columns : \n",
    "#     plt.figure(figsize=(10,6))\n",
    "#     figure=df[col].hist()\n",
    "#     plt.title(col)\n",
    "    \n",
    "#     plt.tight_layout()\n",
    "#     plt.show()\n"
   ]
  },
  {
   "cell_type": "code",
   "execution_count": 10,
   "id": "fc495028",
   "metadata": {},
   "outputs": [],
   "source": [
    "# df=df.select_dtypes(include=['int','float'])\n",
    "# corr_matrix=df.corr()\n",
    "# plt.figure(figsize=(18, 14))\n",
    "# sns.heatmap(corr_matrix, annot=True, fmt=\".2f\", cmap=\"coolwarm\", linewidths=0.5)\n",
    "# plt.title(\"Correlation Heatmap\", fontsize=18)\n",
    "# plt.show()\n"
   ]
  },
  {
   "cell_type": "markdown",
   "id": "968fa8e6",
   "metadata": {},
   "source": [
    "We will begin with the second  file "
   ]
  },
  {
   "cell_type": "code",
   "execution_count": 11,
   "id": "0fb91127",
   "metadata": {},
   "outputs": [],
   "source": [
    "# data=pd.read_csv(\"D:\\DownLoad\\projects\\Multi_claasification_model\\data\\mask.csv\")\n",
    "# df=pd.DataFrame(data)\n",
    "# if \"Unnamed: 0\" in df.columns:\n",
    "# \tdf=df.drop(\"Unnamed: 0\", axis=1)\n"
   ]
  },
  {
   "cell_type": "code",
   "execution_count": 12,
   "id": "fd0f156d",
   "metadata": {},
   "outputs": [],
   "source": [
    "# for col in df.select_dtypes(include=['int','float']).columns : \n",
    "#     plt.figure(figsize=(10,6))\n",
    "#     figure=df[col].hist()\n",
    "#     plt.title(col)\n",
    "    \n",
    "#     plt.tight_layout()\n",
    "#     plt.show()"
   ]
  },
  {
   "cell_type": "code",
   "execution_count": 13,
   "id": "7a666cbe",
   "metadata": {},
   "outputs": [],
   "source": [
    "# for col in df.select_dtypes(include=['int','float']).columns : \n",
    "#     print(f\"{col}\",stats.skew(df[col]),\"\\n\")\n"
   ]
  },
  {
   "cell_type": "code",
   "execution_count": 14,
   "id": "b79b7b6c",
   "metadata": {},
   "outputs": [],
   "source": [
    "# for col in df.select_dtypes(include=['int','float']).columns : \n",
    "#     df[col]=fix_skewness(df[col])"
   ]
  },
  {
   "cell_type": "code",
   "execution_count": 15,
   "id": "f65da775",
   "metadata": {},
   "outputs": [],
   "source": [
    "# for col in df.select_dtypes(include=['int','float']).columns : \n",
    "#     print(f\"{col}\",stats.skew(df[col]),\"\\n\")\n"
   ]
  },
  {
   "cell_type": "code",
   "execution_count": 16,
   "id": "2f38376b",
   "metadata": {},
   "outputs": [],
   "source": [
    "# for col in df.select_dtypes(include=['int','float']).columns : \n",
    "#     plt.figure(figsize=(10,6))\n",
    "#     figure=df[col].hist()\n",
    "#     plt.title(col)\n",
    "    \n",
    "#     plt.tight_layout()\n",
    "#     plt.show()\n"
   ]
  },
  {
   "cell_type": "code",
   "execution_count": 17,
   "id": "e5437a84",
   "metadata": {},
   "outputs": [],
   "source": [
    "# df=df.select_dtypes(include=['int','float'])\n",
    "# corr_matrix=df.corr()\n",
    "# plt.figure(figsize=(18, 14))\n",
    "# sns.heatmap(corr_matrix, annot=True, fmt=\".2f\", cmap=\"coolwarm\", linewidths=0.5)\n",
    "# plt.title(\"Correlation Heatmap\", fontsize=18)\n",
    "# plt.show()\n"
   ]
  },
  {
   "cell_type": "markdown",
   "id": "44d9b363",
   "metadata": {},
   "source": [
    "we will befin with the Z_score methode"
   ]
  },
  {
   "cell_type": "code",
   "execution_count": 18,
   "id": "b78e03a5",
   "metadata": {},
   "outputs": [],
   "source": [
    "# data=pd.read_csv(\"D:\\DownLoad\\projects\\Multi_claasification_model\\data\\Dropping_outliers.csv\")\n",
    "# df=pd.DataFrame(data)\n",
    "# if \"Unnamed: 0\" in df.columns:\n",
    "# \tdf=df.drop(\"Unnamed: 0\", axis=1)"
   ]
  },
  {
   "cell_type": "code",
   "execution_count": 19,
   "id": "fe939b77",
   "metadata": {},
   "outputs": [],
   "source": [
    "# for col in df.select_dtypes(include=['int','float']).columns : \n",
    "#     plt.figure(figsize=(10,6))\n",
    "#     figure=df[col].hist()\n",
    "#     plt.title(col)\n",
    "    \n",
    "#     plt.tight_layout()\n",
    "#     plt.show()"
   ]
  },
  {
   "cell_type": "code",
   "execution_count": 20,
   "id": "63289de8",
   "metadata": {},
   "outputs": [],
   "source": [
    "# for col in df.select_dtypes(include=['int','float']).columns : \n",
    "#     print(f\"{col}\",stats.skew(df[col]),\"\\n\")\n"
   ]
  },
  {
   "cell_type": "code",
   "execution_count": 21,
   "id": "1f426e68",
   "metadata": {},
   "outputs": [],
   "source": [
    "# for col in df.select_dtypes(include=['int','float']).columns : \n",
    "#     df[col]=fix_skewness(df[col])"
   ]
  },
  {
   "cell_type": "code",
   "execution_count": 22,
   "id": "dd6a811a",
   "metadata": {},
   "outputs": [],
   "source": [
    "# for col in df.select_dtypes(include=['int','float']).columns : \n",
    "#     print(f\"{col}\",stats.skew(df[col]),\"\\n\")"
   ]
  },
  {
   "cell_type": "code",
   "execution_count": 23,
   "id": "f77e47ae",
   "metadata": {},
   "outputs": [],
   "source": [
    "# for col in df.select_dtypes(include=['int','float']).columns : \n",
    "#     plt.figure(figsize=(10,6))\n",
    "#     figure=df[col].hist()\n",
    "#     plt.title(col)\n",
    "    \n",
    "#     plt.tight_layout()\n",
    "#     plt.show()"
   ]
  },
  {
   "cell_type": "code",
   "execution_count": 24,
   "id": "9c8ff1bf",
   "metadata": {},
   "outputs": [],
   "source": [
    "# df=df.select_dtypes(include=['int','float'])\n",
    "# corr_matrix=df.corr()\n",
    "# plt.figure(figsize=(18, 14))\n",
    "# sns.heatmap(corr_matrix, annot=True, fmt=\".2f\", cmap=\"coolwarm\", linewidths=0.5)\n",
    "# plt.title(\"Correlation Heatmap\", fontsize=18)\n",
    "# plt.show()\n"
   ]
  },
  {
   "cell_type": "markdown",
   "id": "2bcb9155",
   "metadata": {},
   "source": [
    "Winsorization visualization and skewness fixing"
   ]
  },
  {
   "cell_type": "code",
   "execution_count": 25,
   "id": "60cc849f",
   "metadata": {},
   "outputs": [
    {
     "name": "stderr",
     "output_type": "stream",
     "text": [
      "<>:1: SyntaxWarning: invalid escape sequence '\\D'\n",
      "<>:1: SyntaxWarning: invalid escape sequence '\\D'\n",
      "C:\\Users\\Omar\\AppData\\Local\\Temp\\ipykernel_6564\\1146876544.py:1: SyntaxWarning: invalid escape sequence '\\D'\n",
      "  data=pd.read_csv(\"D:\\DownLoad\\projects\\Multi_claasification_model\\data\\winsorization.csv\")\n"
     ]
    }
   ],
   "source": [
    "data=pd.read_csv(\"D:\\DownLoad\\projects\\Multi_claasification_model\\data\\winsorization.csv\")\n",
    "df=pd.DataFrame(data).drop(columns=\"Unnamed: 0\")\n"
   ]
  },
  {
   "cell_type": "code",
   "execution_count": 26,
   "id": "4bcf37b7",
   "metadata": {},
   "outputs": [],
   "source": [
    "skewed_col=[]\n",
    "for col in df.select_dtypes(include=['int','float']).columns : \n",
    "    skewed_col.append(col)\n",
    "    "
   ]
  },
  {
   "cell_type": "code",
   "execution_count": 27,
   "id": "8db62d5b",
   "metadata": {},
   "outputs": [],
   "source": [
    "for col in skewed_col[11::] : \n",
    "    skewed_col.remove(col)\n"
   ]
  },
  {
   "cell_type": "code",
   "execution_count": 28,
   "id": "2a89c066",
   "metadata": {},
   "outputs": [
    {
     "name": "stdout",
     "output_type": "stream",
     "text": [
      "['flow_time', 'header_size', 'packet_duration', 'overall_rate', 'src_rate', 'dst_rate', 'fin_packets', 'urg_packets', 'rst_packets', 'max_value', 'value_covariance']\n"
     ]
    }
   ],
   "source": [
    "print(skewed_col)"
   ]
  },
  {
   "cell_type": "code",
   "execution_count": 29,
   "id": "36cd1f00",
   "metadata": {},
   "outputs": [
    {
     "name": "stdout",
     "output_type": "stream",
     "text": [
      "flow_time 1.1702346993670973\n",
      "header_size 1.1796666750367577\n",
      "packet_duration nan\n",
      "overall_rate 1.1426880804772594\n",
      "src_rate 1.1426880804772594\n",
      "dst_rate nan\n",
      "fin_packets nan\n",
      "urg_packets nan\n",
      "rst_packets 1.112156946079252\n",
      "max_value 0.020208193451155702\n",
      "value_covariance 1.1754716041405708\n"
     ]
    },
    {
     "name": "stderr",
     "output_type": "stream",
     "text": [
      "C:\\Users\\Omar\\AppData\\Local\\Temp\\ipykernel_6564\\2448121700.py:2: RuntimeWarning: Precision loss occurred in moment calculation due to catastrophic cancellation. This occurs when the data are nearly identical. Results may be unreliable.\n",
      "  print(col , stats.skew(df[col]))\n"
     ]
    }
   ],
   "source": [
    "for col in skewed_col : \n",
    "    print(col , stats.skew(df[col]))"
   ]
  },
  {
   "cell_type": "code",
   "execution_count": 30,
   "id": "795cfa2f",
   "metadata": {},
   "outputs": [
    {
     "name": "stderr",
     "output_type": "stream",
     "text": [
      "C:\\Users\\Omar\\AppData\\Local\\Temp\\ipykernel_6564\\3100450813.py:2: RuntimeWarning: Precision loss occurred in moment calculation due to catastrophic cancellation. This occurs when the data are nearly identical. Results may be unreliable.\n",
      "  skewness = stats.skew(data)\n"
     ]
    }
   ],
   "source": [
    "for col in skewed_col : \n",
    "    df[col]=fix_skewness(df[col])"
   ]
  },
  {
   "cell_type": "code",
   "execution_count": 31,
   "id": "36cde4bf",
   "metadata": {},
   "outputs": [
    {
     "name": "stdout",
     "output_type": "stream",
     "text": [
      "flow_time 1.1309402795251646\n",
      "header_size 0.15287481035434292\n",
      "packet_duration nan\n",
      "overall_rate 0.28820798653442653\n",
      "src_rate 0.28820798653442653\n",
      "dst_rate nan\n",
      "fin_packets nan\n",
      "urg_packets nan\n",
      "rst_packets 1.1112681065278045\n",
      "max_value 0.020208193451155702\n",
      "value_covariance 1.054288475448431\n"
     ]
    },
    {
     "name": "stderr",
     "output_type": "stream",
     "text": [
      "C:\\Users\\Omar\\AppData\\Local\\Temp\\ipykernel_6564\\2448121700.py:2: RuntimeWarning: Precision loss occurred in moment calculation due to catastrophic cancellation. This occurs when the data are nearly identical. Results may be unreliable.\n",
      "  print(col , stats.skew(df[col]))\n"
     ]
    }
   ],
   "source": [
    "for col in skewed_col : \n",
    "    print(col , stats.skew(df[col]))"
   ]
  },
  {
   "cell_type": "code",
   "execution_count": 32,
   "id": "7f192c96",
   "metadata": {},
   "outputs": [
    {
     "name": "stderr",
     "output_type": "stream",
     "text": [
      "<>:1: SyntaxWarning: invalid escape sequence '\\D'\n",
      "<>:1: SyntaxWarning: invalid escape sequence '\\D'\n",
      "C:\\Users\\Omar\\AppData\\Local\\Temp\\ipykernel_6564\\3267210853.py:1: SyntaxWarning: invalid escape sequence '\\D'\n",
      "  df.to_csv(\"D:\\DownLoad\\projects\\Multi_claasification_model\\data\\winsorization_skewness.csv\")\n"
     ]
    }
   ],
   "source": [
    "df.to_csv(\"D:\\DownLoad\\projects\\Multi_claasification_model\\data\\winsorization_skewness.csv\")"
   ]
  }
 ],
 "metadata": {
  "kernelspec": {
   "display_name": "venv",
   "language": "python",
   "name": "python3"
  },
  "language_info": {
   "codemirror_mode": {
    "name": "ipython",
    "version": 3
   },
   "file_extension": ".py",
   "mimetype": "text/x-python",
   "name": "python",
   "nbconvert_exporter": "python",
   "pygments_lexer": "ipython3",
   "version": "3.12.7"
  }
 },
 "nbformat": 4,
 "nbformat_minor": 5
}
