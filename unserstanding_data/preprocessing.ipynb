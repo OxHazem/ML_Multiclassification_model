{
 "cells": [
  {
   "cell_type": "code",
   "execution_count": 2,
   "id": "78183134",
   "metadata": {},
   "outputs": [],
   "source": [
    "import pandas as pd"
   ]
  },
  {
   "cell_type": "code",
   "execution_count": null,
   "id": "08f0ae2e",
   "metadata": {},
   "outputs": [
    {
     "name": "stderr",
     "output_type": "stream",
     "text": [
      "<>:1: SyntaxWarning: invalid escape sequence '\\D'\n",
      "<>:1: SyntaxWarning: invalid escape sequence '\\D'\n",
      "C:\\Users\\Omar\\AppData\\Local\\Temp\\ipykernel_23208\\3183017559.py:1: SyntaxWarning: invalid escape sequence '\\D'\n",
      "  data=pd.read_csv(\"D:\\DownLoad\\projects\\Multi_claasification_model\\data\\phase2_students.csv\")\n"
     ]
    }
   ],
   "source": [
    "# data=pd.read_csv(\"D:\\DownLoad\\projects\\Multi_claasification_model\\data\\phase2_students.csv\")\n",
    "# df=pd.DataFrame(data)"
   ]
  },
  {
   "cell_type": "code",
   "execution_count": null,
   "id": "1bd0ed6b",
   "metadata": {},
   "outputs": [
    {
     "data": {
      "text/html": [
       "<div>\n",
       "<style scoped>\n",
       "    .dataframe tbody tr th:only-of-type {\n",
       "        vertical-align: middle;\n",
       "    }\n",
       "\n",
       "    .dataframe tbody tr th {\n",
       "        vertical-align: top;\n",
       "    }\n",
       "\n",
       "    .dataframe thead th {\n",
       "        text-align: right;\n",
       "    }\n",
       "</style>\n",
       "<table border=\"1\" class=\"dataframe\">\n",
       "  <thead>\n",
       "    <tr style=\"text-align: right;\">\n",
       "      <th></th>\n",
       "      <th>flow_time</th>\n",
       "      <th>header_size</th>\n",
       "      <th>packet_duration</th>\n",
       "      <th>overall_rate</th>\n",
       "      <th>src_rate</th>\n",
       "      <th>dst_rate</th>\n",
       "      <th>fin_packets</th>\n",
       "      <th>urg_packets</th>\n",
       "      <th>rst_packets</th>\n",
       "      <th>max_value</th>\n",
       "      <th>...</th>\n",
       "      <th>syn_flags</th>\n",
       "      <th>rst_flags</th>\n",
       "      <th>psh_flags</th>\n",
       "      <th>ack_flags</th>\n",
       "      <th>protocol_http</th>\n",
       "      <th>protocol_https</th>\n",
       "      <th>protocol_tcp</th>\n",
       "      <th>protocol_udp</th>\n",
       "      <th>protocol_icmp</th>\n",
       "      <th>label</th>\n",
       "    </tr>\n",
       "  </thead>\n",
       "  <tbody>\n",
       "    <tr>\n",
       "      <th>0</th>\n",
       "      <td>0.041268</td>\n",
       "      <td>15499.00</td>\n",
       "      <td>64.00</td>\n",
       "      <td>7805.845961</td>\n",
       "      <td>7805.845961</td>\n",
       "      <td>0.0</td>\n",
       "      <td>0.0</td>\n",
       "      <td>0.00</td>\n",
       "      <td>0.00</td>\n",
       "      <td>50.00</td>\n",
       "      <td>...</td>\n",
       "      <td>0</td>\n",
       "      <td>0</td>\n",
       "      <td>0</td>\n",
       "      <td>0</td>\n",
       "      <td>0</td>\n",
       "      <td>0</td>\n",
       "      <td>0</td>\n",
       "      <td>1</td>\n",
       "      <td>0</td>\n",
       "      <td>DDoS</td>\n",
       "    </tr>\n",
       "    <tr>\n",
       "      <th>1</th>\n",
       "      <td>0.018393</td>\n",
       "      <td>3702.54</td>\n",
       "      <td>64.00</td>\n",
       "      <td>6728.994198</td>\n",
       "      <td>6728.994198</td>\n",
       "      <td>0.0</td>\n",
       "      <td>0.0</td>\n",
       "      <td>0.00</td>\n",
       "      <td>0.01</td>\n",
       "      <td>54.28</td>\n",
       "      <td>...</td>\n",
       "      <td>0</td>\n",
       "      <td>0</td>\n",
       "      <td>0</td>\n",
       "      <td>0</td>\n",
       "      <td>0</td>\n",
       "      <td>0</td>\n",
       "      <td>0</td>\n",
       "      <td>1</td>\n",
       "      <td>0</td>\n",
       "      <td>DDoS</td>\n",
       "    </tr>\n",
       "    <tr>\n",
       "      <th>2</th>\n",
       "      <td>0.000000</td>\n",
       "      <td>182.00</td>\n",
       "      <td>64.00</td>\n",
       "      <td>38.559448</td>\n",
       "      <td>38.559448</td>\n",
       "      <td>0.0</td>\n",
       "      <td>0.0</td>\n",
       "      <td>0.00</td>\n",
       "      <td>0.00</td>\n",
       "      <td>182.00</td>\n",
       "      <td>...</td>\n",
       "      <td>0</td>\n",
       "      <td>0</td>\n",
       "      <td>0</td>\n",
       "      <td>0</td>\n",
       "      <td>0</td>\n",
       "      <td>0</td>\n",
       "      <td>0</td>\n",
       "      <td>1</td>\n",
       "      <td>0</td>\n",
       "      <td>DoS</td>\n",
       "    </tr>\n",
       "    <tr>\n",
       "      <th>3</th>\n",
       "      <td>0.109292</td>\n",
       "      <td>35027.55</td>\n",
       "      <td>62.72</td>\n",
       "      <td>6783.234241</td>\n",
       "      <td>6783.234241</td>\n",
       "      <td>0.0</td>\n",
       "      <td>0.0</td>\n",
       "      <td>0.03</td>\n",
       "      <td>0.11</td>\n",
       "      <td>65.11</td>\n",
       "      <td>...</td>\n",
       "      <td>0</td>\n",
       "      <td>0</td>\n",
       "      <td>0</td>\n",
       "      <td>0</td>\n",
       "      <td>0</td>\n",
       "      <td>0</td>\n",
       "      <td>0</td>\n",
       "      <td>1</td>\n",
       "      <td>0</td>\n",
       "      <td>DoS</td>\n",
       "    </tr>\n",
       "    <tr>\n",
       "      <th>4</th>\n",
       "      <td>0.000000</td>\n",
       "      <td>162.00</td>\n",
       "      <td>64.00</td>\n",
       "      <td>2.305494</td>\n",
       "      <td>2.305494</td>\n",
       "      <td>0.0</td>\n",
       "      <td>0.0</td>\n",
       "      <td>0.00</td>\n",
       "      <td>0.00</td>\n",
       "      <td>162.00</td>\n",
       "      <td>...</td>\n",
       "      <td>0</td>\n",
       "      <td>0</td>\n",
       "      <td>0</td>\n",
       "      <td>0</td>\n",
       "      <td>0</td>\n",
       "      <td>0</td>\n",
       "      <td>0</td>\n",
       "      <td>1</td>\n",
       "      <td>0</td>\n",
       "      <td>DoS</td>\n",
       "    </tr>\n",
       "  </tbody>\n",
       "</table>\n",
       "<p>5 rows × 22 columns</p>\n",
       "</div>"
      ],
      "text/plain": [
       "   flow_time  header_size  packet_duration  overall_rate     src_rate  \\\n",
       "0   0.041268     15499.00            64.00   7805.845961  7805.845961   \n",
       "1   0.018393      3702.54            64.00   6728.994198  6728.994198   \n",
       "2   0.000000       182.00            64.00     38.559448    38.559448   \n",
       "3   0.109292     35027.55            62.72   6783.234241  6783.234241   \n",
       "4   0.000000       162.00            64.00      2.305494     2.305494   \n",
       "\n",
       "   dst_rate  fin_packets  urg_packets  rst_packets  max_value  ...  syn_flags  \\\n",
       "0       0.0          0.0         0.00         0.00      50.00  ...          0   \n",
       "1       0.0          0.0         0.00         0.01      54.28  ...          0   \n",
       "2       0.0          0.0         0.00         0.00     182.00  ...          0   \n",
       "3       0.0          0.0         0.03         0.11      65.11  ...          0   \n",
       "4       0.0          0.0         0.00         0.00     162.00  ...          0   \n",
       "\n",
       "   rst_flags  psh_flags  ack_flags  protocol_http  protocol_https  \\\n",
       "0          0          0          0              0               0   \n",
       "1          0          0          0              0               0   \n",
       "2          0          0          0              0               0   \n",
       "3          0          0          0              0               0   \n",
       "4          0          0          0              0               0   \n",
       "\n",
       "   protocol_tcp  protocol_udp  protocol_icmp  label  \n",
       "0             0             1              0   DDoS  \n",
       "1             0             1              0   DDoS  \n",
       "2             0             1              0    DoS  \n",
       "3             0             1              0    DoS  \n",
       "4             0             1              0    DoS  \n",
       "\n",
       "[5 rows x 22 columns]"
      ]
     },
     "execution_count": 4,
     "metadata": {},
     "output_type": "execute_result"
    }
   ],
   "source": [
    "# df.head()"
   ]
  },
  {
   "cell_type": "code",
   "execution_count": null,
   "id": "81bef84f",
   "metadata": {},
   "outputs": [
    {
     "data": {
      "text/plain": [
       "flow_time           0\n",
       "header_size         0\n",
       "packet_duration     0\n",
       "overall_rate        0\n",
       "src_rate            0\n",
       "dst_rate            0\n",
       "fin_packets         0\n",
       "urg_packets         0\n",
       "rst_packets         0\n",
       "max_value           0\n",
       "value_covariance    0\n",
       "fin_flags           0\n",
       "syn_flags           0\n",
       "rst_flags           0\n",
       "psh_flags           0\n",
       "ack_flags           0\n",
       "protocol_http       0\n",
       "protocol_https      0\n",
       "protocol_tcp        0\n",
       "protocol_udp        0\n",
       "protocol_icmp       0\n",
       "label               0\n",
       "dtype: int64"
      ]
     },
     "execution_count": 5,
     "metadata": {},
     "output_type": "execute_result"
    }
   ],
   "source": [
    "# df.isna().sum()"
   ]
  },
  {
   "cell_type": "code",
   "execution_count": 6,
   "id": "038d6427",
   "metadata": {},
   "outputs": [
    {
     "data": {
      "text/plain": [
       "(938583, 22)"
      ]
     },
     "execution_count": 6,
     "metadata": {},
     "output_type": "execute_result"
    }
   ],
   "source": [
    "df.shape"
   ]
  },
  {
   "cell_type": "markdown",
   "id": "fa65f484",
   "metadata": {},
   "source": [
    "their are no missing values"
   ]
  },
  {
   "cell_type": "code",
   "execution_count": null,
   "id": "dc452044",
   "metadata": {},
   "outputs": [
    {
     "data": {
      "text/plain": [
       "0         False\n",
       "1         False\n",
       "2         False\n",
       "3         False\n",
       "4         False\n",
       "          ...  \n",
       "938578    False\n",
       "938579     True\n",
       "938580    False\n",
       "938581    False\n",
       "938582    False\n",
       "Length: 938583, dtype: bool"
      ]
     },
     "execution_count": 7,
     "metadata": {},
     "output_type": "execute_result"
    }
   ],
   "source": [
    "# df.duplicated()"
   ]
  },
  {
   "cell_type": "code",
   "execution_count": null,
   "id": "09561994",
   "metadata": {},
   "outputs": [],
   "source": [
    "# df=df.drop_duplicates()"
   ]
  },
  {
   "cell_type": "code",
   "execution_count": 9,
   "id": "33cf7323",
   "metadata": {},
   "outputs": [
    {
     "data": {
      "text/plain": [
       "(842396, 22)"
      ]
     },
     "execution_count": 9,
     "metadata": {},
     "output_type": "execute_result"
    }
   ],
   "source": [
    "df.shape"
   ]
  },
  {
   "cell_type": "markdown",
   "id": "4c85217f",
   "metadata": {},
   "source": [
    "Checking for Outliers "
   ]
  },
  {
   "cell_type": "code",
   "execution_count": null,
   "id": "8e24ca03",
   "metadata": {},
   "outputs": [],
   "source": [
    "import seaborn as sns\n",
    "import matplotlib.pyplot as plt"
   ]
  },
  {
   "cell_type": "code",
   "execution_count": null,
   "id": "db7937b5",
   "metadata": {},
   "outputs": [
    {
     "data": {
      "image/png": "[encoded data removed]",
      "text/plain": [
       "<Figure size 640x480 with 1 Axes>"
      ]
     },
     "metadata": {},
     "output_type": "display_data"
    },
    {
     "data": {
      "image/png": "[encoded data removed]",
      "text/plain": [
       "<Figure size 640x480 with 1 Axes>"
      ]
     },
     "metadata": {},
     "output_type": "display_data"
    },
    {
     "data": {
      "image/png": "[encoded data removed]",
      "text/plain": [
       "<Figure size 640x480 with 1 Axes>"
      ]
     },
     "metadata": {},
     "output_type": "display_data"
    },
    {
     "data": {
      "image/png": "[encoded data removed]",
      "text/plain": [
       "<Figure size 640x480 with 1 Axes>"
      ]
     },
     "metadata": {},
     "output_type": "display_data"
    },
    {
     "data": {
      "image/png": "[encoded data removed]",
      "text/plain": [
       "<Figure size 640x480 with 1 Axes>"
      ]
     },
     "metadata": {},
     "output_type": "display_data"
    },
    {
     "data": {
      "image/png": "[encoded data removed]",
      "text/plain": [
       "<Figure size 640x480 with 1 Axes>"
      ]
     },
     "metadata": {},
     "output_type": "display_data"
    },
    {
     "data": {
      "image/png": "[encoded data removed]",
      "text/plain": [
       "<Figure size 640x480 with 1 Axes>"
      ]
     },
     "metadata": {},
     "output_type": "display_data"
    },
    {
     "data": {
      "image/png": "[encoded data removed]",
      "text/plain": [
       "<Figure size 640x480 with 1 Axes>"
      ]
     },
     "metadata": {},
     "output_type": "display_data"
    },
    {
     "data": {
      "image/png": "[encoded data removed]",
      "text/plain": [
       "<Figure size 640x480 with 1 Axes>"
      ]
     },
     "metadata": {},
     "output_type": "display_data"
    },
    {
     "data": {
      "image/png": "[encoded data removed]",
      "text/plain": [
       "<Figure size 640x480 with 1 Axes>"
      ]
     },
     "metadata": {},
     "output_type": "display_data"
    },
    {
     "data": {
      "image/png": "[encoded data removed]",
      "text/plain": [
       "<Figure size 640x480 with 1 Axes>"
      ]
     },
     "metadata": {},
     "output_type": "display_data"
    },
    {
     "data": {
      "image/png": "[encoded data removed]",
      "text/plain": [
       "<Figure size 640x480 with 1 Axes>"
      ]
     },
     "metadata": {},
     "output_type": "display_data"
    },
    {
     "data": {
      "image/png": "[encoded data removed]",
      "text/plain": [
       "<Figure size 640x480 with 1 Axes>"
      ]
     },
     "metadata": {},
     "output_type": "display_data"
    },
    {
     "data": {
      "image/png": "[encoded data removed]",
      "text/plain": [
       "<Figure size 640x480 with 1 Axes>"
      ]
     },
     "metadata": {},
     "output_type": "display_data"
    },
    {
     "data": {
      "image/png": "[encoded data removed]",
      "text/plain": [
       "<Figure size 640x480 with 1 Axes>"
      ]
     },
     "metadata": {},
     "output_type": "display_data"
    },
    {
     "data": {
      "image/png": "[encoded data removed]",
      "text/plain": [
       "<Figure size 640x480 with 1 Axes>"
      ]
     },
     "metadata": {},
     "output_type": "display_data"
    },
    {
     "data": {
      "image/png": "[encoded data removed]",
      "text/plain": [
       "<Figure size 640x480 with 1 Axes>"
      ]
     },
     "metadata": {},
     "output_type": "display_data"
    },
    {
     "data": {
      "image/png": "[encoded data removed]",
      "text/plain": [
       "<Figure size 640x480 with 1 Axes>"
      ]
     },
     "metadata": {},
     "output_type": "display_data"
    },
    {
     "data": {
      "image/png": "[encoded data removed]",
      "text/plain": [
       "<Figure size 640x480 with 1 Axes>"
      ]
     },
     "metadata": {},
     "output_type": "display_data"
    },
    {
     "data": {
      "image/png": "[encoded data removed]",
      "text/plain": [
       "<Figure size 640x480 with 1 Axes>"
      ]
     },
     "metadata": {},
     "output_type": "display_data"
    },
    {
     "data": {
      "image/png": "[encoded data removed]",
      "text/plain": [
       "<Figure size 640x480 with 1 Axes>"
      ]
     },
     "metadata": {},
     "output_type": "display_data"
    }
   ],
   "source": [
    "# for  col in df.select_dtypes(include=['int','float']).columns : \n",
    "#     figure=sns.boxplot(df,x=df[col])\n",
    "#     plt.show()"
   ]
  },
  {
   "cell_type": "code",
   "execution_count": null,
   "id": "1d9b57c0",
   "metadata": {},
   "outputs": [
    {
     "data": {
      "text/plain": [
       "(842396, 22)"
      ]
     },
     "execution_count": 12,
     "metadata": {},
     "output_type": "execute_result"
    }
   ],
   "source": [
    "# df.shape"
   ]
  },
  {
   "cell_type": "code",
   "execution_count": null,
   "id": "43b76c86",
   "metadata": {},
   "outputs": [],
   "source": [
    "# for col in df.select_dtypes(include=['int','float']).columns : \n",
    "#     Q1=df[col].quantile(0.25)\n",
    "#     Q3=df[col].quantile(0.75)\n",
    "#     IQR=Q3-Q1\n",
    "#     lower_bound=Q1-1.5*IQR\n",
    "#     upper_bound=Q3+1.5*IQR\n",
    "#     df=df[(df[col]>=lower_bound)&(df[col]<=upper_bound)]\n",
    "    \n"
   ]
  },
  {
   "cell_type": "code",
   "execution_count": null,
   "id": "f759ddaa",
   "metadata": {},
   "outputs": [
    {
     "data": {
      "text/plain": [
       "(175981, 22)"
      ]
     },
     "execution_count": 14,
     "metadata": {},
     "output_type": "execute_result"
    }
   ],
   "source": [
    "# df.shape"
   ]
  },
  {
   "cell_type": "code",
   "execution_count": null,
   "id": "f983c4d5",
   "metadata": {},
   "outputs": [
    {
     "data": {
      "text/plain": [
       "(175981, 22)"
      ]
     },
     "execution_count": 15,
     "metadata": {},
     "output_type": "execute_result"
    }
   ],
   "source": [
    "# df.shape"
   ]
  },
  {
   "cell_type": "code",
   "execution_count": null,
   "id": "4cddb9d8",
   "metadata": {},
   "outputs": [],
   "source": [
    "# Dropping_outliers=df"
   ]
  },
  {
   "cell_type": "code",
   "execution_count": 17,
   "id": "abe8d31d",
   "metadata": {},
   "outputs": [
    {
     "name": "stderr",
     "output_type": "stream",
     "text": [
      "<>:1: SyntaxWarning: invalid escape sequence '\\D'\n",
      "<>:1: SyntaxWarning: invalid escape sequence '\\D'\n",
      "C:\\Users\\Omar\\AppData\\Local\\Temp\\ipykernel_23208\\4210317907.py:1: SyntaxWarning: invalid escape sequence '\\D'\n",
      "  Dropping_outliers.to_csv(\"D:\\DownLoad\\projects\\Multi_claasification_model\\data\\Dropping_outliers.csv\")\n"
     ]
    }
   ],
   "source": [
    "Dropping_outliers.to_csv(\"D:\\DownLoad\\projects\\Multi_claasification_model\\data\\Dropping_outliers.csv\")"
   ]
  },
  {
   "cell_type": "code",
   "execution_count": null,
   "id": "933eabf7",
   "metadata": {},
   "outputs": [
    {
     "name": "stderr",
     "output_type": "stream",
     "text": [
      "<>:1: SyntaxWarning: invalid escape sequence '\\D'\n",
      "<>:1: SyntaxWarning: invalid escape sequence '\\D'\n",
      "C:\\Users\\Omar\\AppData\\Local\\Temp\\ipykernel_23208\\414782124.py:1: SyntaxWarning: invalid escape sequence '\\D'\n",
      "  data=pd.read_csv(\"D:\\DownLoad\\projects\\Multi_claasification_model\\data\\phase2_students.csv\")\n"
     ]
    }
   ],
   "source": [
    "# data=pd.read_csv(\"D:\\DownLoad\\projects\\Multi_claasification_model\\data\\phase2_students.csv\")\n",
    "# df=pd.DataFrame(data)\n"
   ]
  },
  {
   "cell_type": "code",
   "execution_count": null,
   "id": "818a9384",
   "metadata": {},
   "outputs": [],
   "source": [
    "# def remove_outliers(df):\n",
    "#     mask = pd.Series([True] * len(df), index=df.index)\n",
    "#     for col in df.select_dtypes(include=['int64', 'float64']).columns:\n",
    "#         Q1 = df[col].quantile(0.25)\n",
    "#         Q3 = df[col].quantile(0.75)\n",
    "#         IQR = Q3 - Q1\n",
    "#         lower_bound = Q1 - 1.5 * IQR\n",
    "#         upper_bound = Q3 + 1.5 * IQR\n",
    "#         mask &= (df[col] >= lower_bound) & (df[col] <= upper_bound)\n",
    "#     return df[mask]"
   ]
  },
  {
   "cell_type": "code",
   "execution_count": null,
   "id": "be57b529",
   "metadata": {},
   "outputs": [
    {
     "name": "stderr",
     "output_type": "stream",
     "text": [
      "<>:1: SyntaxWarning: invalid escape sequence '\\D'\n",
      "<>:1: SyntaxWarning: invalid escape sequence '\\D'\n",
      "C:\\Users\\Omar\\AppData\\Local\\Temp\\ipykernel_23208\\1785523533.py:1: SyntaxWarning: invalid escape sequence '\\D'\n",
      "  data=pd.read_csv(\"D:\\DownLoad\\projects\\Multi_claasification_model\\data\\phase2_students.csv\")\n"
     ]
    }
   ],
   "source": [
    "# data=pd.read_csv(\"D:\\DownLoad\\projects\\Multi_claasification_model\\data\\phase2_students.csv\")\n",
    "# df=pd.DataFrame(data)\n",
    "# df_cleaned=remove_outliers(df)"
   ]
  },
  {
   "cell_type": "code",
   "execution_count": null,
   "id": "e9cf0601",
   "metadata": {},
   "outputs": [
    {
     "data": {
      "text/plain": [
       "(73576, 22)"
      ]
     },
     "execution_count": 21,
     "metadata": {},
     "output_type": "execute_result"
    }
   ],
   "source": [
    "# df_cleaned.shape"
   ]
  },
  {
   "cell_type": "code",
   "execution_count": null,
   "id": "117bff81",
   "metadata": {},
   "outputs": [
    {
     "name": "stderr",
     "output_type": "stream",
     "text": [
      "<>:1: SyntaxWarning: invalid escape sequence '\\D'\n",
      "<>:1: SyntaxWarning: invalid escape sequence '\\D'\n",
      "C:\\Users\\Omar\\AppData\\Local\\Temp\\ipykernel_23208\\3377948582.py:1: SyntaxWarning: invalid escape sequence '\\D'\n",
      "  df_cleaned.to_csv(\"D:\\DownLoad\\projects\\Multi_claasification_model\\data\\mask.csv\")\n"
     ]
    }
   ],
   "source": [
    "# df_cleaned.to_csv(\"D:\\DownLoad\\projects\\Multi_claasification_model\\data\\mask.csv\")"
   ]
  },
  {
   "cell_type": "code",
   "execution_count": null,
   "id": "d073c1c4",
   "metadata": {},
   "outputs": [
    {
     "name": "stderr",
     "output_type": "stream",
     "text": [
      "<>:2: SyntaxWarning: invalid escape sequence '\\D'\n",
      "<>:2: SyntaxWarning: invalid escape sequence '\\D'\n",
      "C:\\Users\\Omar\\AppData\\Local\\Temp\\ipykernel_23208\\1564125371.py:2: SyntaxWarning: invalid escape sequence '\\D'\n",
      "  data=pd.read_csv(\"D:\\DownLoad\\projects\\Multi_claasification_model\\data\\phase2_students.csv\")\n"
     ]
    }
   ],
   "source": [
    "# def Z_Score():\n",
    "#     data=pd.read_csv(\"D:\\DownLoad\\projects\\Multi_claasification_model\\data\\phase2_students.csv\")\n",
    "#     df=pd.DataFrame(data)\n",
    "#     mask = pd.Series(True, index=df.index)\n",
    "#     for col in df.select_dtypes(include=['int64','float64']).columns :\n",
    "#         Mean=df[col].mean()\n",
    "#         STD=df[col].std()\n",
    "#         Z_score=(df[col]-Mean)/STD\n",
    "#         mask &=(Z_score.abs()<3)\n",
    "#     Z_score_cleaned_df=df[mask]   \n",
    "#     return Z_score_cleaned_df "
   ]
  },
  {
   "cell_type": "code",
   "execution_count": null,
   "id": "33c94c4e",
   "metadata": {},
   "outputs": [],
   "source": [
    "# z_score=Z_Score()"
   ]
  },
  {
   "cell_type": "code",
   "execution_count": null,
   "id": "f0196ee0",
   "metadata": {},
   "outputs": [
    {
     "data": {
      "text/plain": [
       "(683722, 22)"
      ]
     },
     "execution_count": 25,
     "metadata": {},
     "output_type": "execute_result"
    }
   ],
   "source": [
    "# z_score.shape"
   ]
  },
  {
   "cell_type": "code",
   "execution_count": null,
   "id": "2ac2e0da",
   "metadata": {},
   "outputs": [
    {
     "name": "stderr",
     "output_type": "stream",
     "text": [
      "<>:1: SyntaxWarning: invalid escape sequence '\\D'\n",
      "<>:1: SyntaxWarning: invalid escape sequence '\\D'\n",
      "C:\\Users\\Omar\\AppData\\Local\\Temp\\ipykernel_23208\\1058265636.py:1: SyntaxWarning: invalid escape sequence '\\D'\n",
      "  z_score.to_csv(\"D:\\DownLoad\\projects\\Multi_claasification_model\\data\\Z_score.csv\")\n"
     ]
    }
   ],
   "source": [
    "# z_score.to_csv(\"D:\\DownLoad\\projects\\Multi_claasification_model\\data\\Z_score.csv\")"
   ]
  },
  {
   "cell_type": "code",
   "execution_count": null,
   "id": "375fa1fe",
   "metadata": {},
   "outputs": [
    {
     "name": "stderr",
     "output_type": "stream",
     "text": [
      "<>:1: SyntaxWarning: invalid escape sequence '\\D'\n",
      "<>:1: SyntaxWarning: invalid escape sequence '\\D'\n",
      "C:\\Users\\Omar\\AppData\\Local\\Temp\\ipykernel_23208\\3183017559.py:1: SyntaxWarning: invalid escape sequence '\\D'\n",
      "  data=pd.read_csv(\"D:\\DownLoad\\projects\\Multi_claasification_model\\data\\phase2_students.csv\")\n"
     ]
    }
   ],
   "source": [
    "# data=pd.read_csv(\"D:\\DownLoad\\projects\\Multi_claasification_model\\data\\phase2_students.csv\")\n",
    "# df=pd.DataFrame(data)"
   ]
  },
  {
   "cell_type": "code",
   "execution_count": null,
   "id": "74dfd5ab",
   "metadata": {},
   "outputs": [],
   "source": [
    "\n",
    "# numeric_df = df.select_dtypes(include='number')  \n",
    "\n",
    "# Q1 = numeric_df.quantile(0.25)\n",
    "# Q3 = numeric_df.quantile(0.75)\n",
    "# IQR = Q3 - Q1\n",
    "# lower_bound = Q1 - 1.5 * IQR\n",
    "# upper_bound = Q3 + 1.5 * IQR\n",
    "\n",
    "# for col in numeric_df.columns:\n",
    "#     df = df[(df[col] >= lower_bound[col]) & (df[col] <= upper_bound[col])]"
   ]
  },
  {
   "cell_type": "code",
   "execution_count": null,
   "id": "532cb4dd",
   "metadata": {},
   "outputs": [],
   "source": []
  },
  {
   "cell_type": "code",
   "execution_count": null,
   "id": "252f68b2",
   "metadata": {},
   "outputs": [],
   "source": [
    "# df_cleaned_whole=df\n"
   ]
  },
  {
   "cell_type": "code",
   "execution_count": null,
   "id": "1fc9343f",
   "metadata": {},
   "outputs": [
    {
     "data": {
      "text/plain": [
       "(73576, 22)"
      ]
     },
     "execution_count": 30,
     "metadata": {},
     "output_type": "execute_result"
    }
   ],
   "source": [
    "# df_cleaned_whole.shape"
   ]
  },
  {
   "cell_type": "code",
   "execution_count": null,
   "id": "2534ea27",
   "metadata": {},
   "outputs": [
    {
     "name": "stderr",
     "output_type": "stream",
     "text": [
      "<>:1: SyntaxWarning: invalid escape sequence '\\D'\n",
      "<>:1: SyntaxWarning: invalid escape sequence '\\D'\n",
      "C:\\Users\\Omar\\AppData\\Local\\Temp\\ipykernel_23208\\4090001715.py:1: SyntaxWarning: invalid escape sequence '\\D'\n",
      "  df_cleaned_whole.to_csv(\"D:\\DownLoad\\projects\\Multi_claasification_model\\data\\Data_removing_outliers.csv\")\n"
     ]
    }
   ],
   "source": [
    "# df_cleaned_whole.to_csv(\"D:\\DownLoad\\projects\\Multi_claasification_model\\data\\Data_removing_outliers.csv\")"
   ]
  },
  {
   "cell_type": "code",
   "execution_count": null,
   "id": "4e6625a2",
   "metadata": {},
   "outputs": [
    {
     "name": "stderr",
     "output_type": "stream",
     "text": [
      "<>:1: SyntaxWarning: invalid escape sequence '\\D'\n",
      "<>:1: SyntaxWarning: invalid escape sequence '\\D'\n",
      "C:\\Users\\Omar\\AppData\\Local\\Temp\\ipykernel_23208\\873489905.py:1: SyntaxWarning: invalid escape sequence '\\D'\n",
      "  data=pd.read_csv(\"D:\\DownLoad\\projects\\Multi_claasification_model\\data\\phase2_students.csv\")\n"
     ]
    }
   ],
   "source": [
    "data=pd.read_csv(\"D:\\DownLoad\\projects\\Multi_claasification_model\\data\\phase2_students.csv\")\n",
    "df=pd.DataFrame(data)\n",
    "df=df.drop_duplicates()\n",
    "for col in df.select_dtypes(include=[\"float64\",\"int64\"]).columns:\n",
    "        Q1 = df[col].quantile(0.25)\n",
    "        Q3 = df[col].quantile(0.75)\n",
    "        IQR = Q3 - Q1\n",
    "        lower_bound = Q1 - 1.5 * IQR\n",
    "        upper_bound = Q3 + 1.5 * IQR\n",
    "\n",
    "        df[col] = df[col].clip(lower=lower_bound, upper=upper_bound)"
   ]
  },
  {
   "cell_type": "code",
   "execution_count": 33,
   "id": "f7103017",
   "metadata": {},
   "outputs": [
    {
     "name": "stderr",
     "output_type": "stream",
     "text": [
      "<>:1: SyntaxWarning: invalid escape sequence '\\D'\n",
      "<>:1: SyntaxWarning: invalid escape sequence '\\D'\n",
      "C:\\Users\\Omar\\AppData\\Local\\Temp\\ipykernel_23208\\27352911.py:1: SyntaxWarning: invalid escape sequence '\\D'\n",
      "  df.to_csv(\"D:\\DownLoad\\projects\\Multi_claasification_model\\data\\winsorization.csv\")\n"
     ]
    }
   ],
   "source": [
    "df.to_csv(\"D:\\DownLoad\\projects\\Multi_claasification_model\\data\\winsorization.csv\")"
   ]
  }
 ],
 "metadata": {
  "kernelspec": {
   "display_name": "venv",
   "language": "python",
   "name": "python3"
  },
  "language_info": {
   "codemirror_mode": {
    "name": "ipython",
    "version": 3
   },
   "file_extension": ".py",
   "mimetype": "text/x-python",
   "name": "python",
   "nbconvert_exporter": "python",
   "pygments_lexer": "ipython3",
   "version": "3.12.7"
  }
 },
 "nbformat": 4,
 "nbformat_minor": 5
}
