{
 "cells": [
  {
   "cell_type": "code",
   "execution_count": 90,
   "id": "c671e984",
   "metadata": {},
   "outputs": [],
   "source": [
    "import pandas as pd "
   ]
  },
  {
   "cell_type": "code",
   "execution_count": 91,
   "id": "df5afaef",
   "metadata": {},
   "outputs": [],
   "source": [
    "from sklearn.preprocessing import RobustScaler\n",
    "from sklearn.preprocessing import LabelEncoder\n",
    "from sklearn.ensemble import RandomForestClassifier\n",
    "from sklearn.metrics import accuracy_score,f1_score,precision_score,recall_score\n",
    "from sklearn.model_selection import train_test_split\n",
    "from imblearn.over_sampling import SMOTE\n"
   ]
  },
  {
   "cell_type": "code",
   "execution_count": 92,
   "id": "0609b574",
   "metadata": {},
   "outputs": [],
   "source": [
    "import xgboost\n",
    "import lightgbm"
   ]
  },
  {
   "cell_type": "markdown",
   "id": "5c4790e2",
   "metadata": {},
   "source": [
    "We will begin wit the training of the of the first  csv file "
   ]
  },
  {
   "cell_type": "code",
   "execution_count": 93,
   "id": "1774bd88",
   "metadata": {},
   "outputs": [],
   "source": [
    "# data=pd.read_csv(\"D:\\DownLoad\\projects\\Multi_claasification_model\\data\\Dropping_outliers.csv\")\n",
    "# df=pd.DataFrame(data)\n",
    "# if \"Unnamed: 0\" in df.columns:\n",
    "# \tdf=df.drop(\"Unnamed: 0\", axis=1)\n"
   ]
  },
  {
   "cell_type": "code",
   "execution_count": 94,
   "id": "90a61d1d",
   "metadata": {},
   "outputs": [],
   "source": [
    "# df['label'].value_counts()"
   ]
  },
  {
   "cell_type": "code",
   "execution_count": 95,
   "id": "61755559",
   "metadata": {},
   "outputs": [],
   "source": [
    "# le=LabelEncoder()\n",
    "# df['label']=le.fit_transform(df['label'])\n",
    "# df.info()\n"
   ]
  },
  {
   "cell_type": "code",
   "execution_count": 96,
   "id": "7d347490",
   "metadata": {},
   "outputs": [],
   "source": [
    "# df['label'].value_counts()"
   ]
  },
  {
   "cell_type": "code",
   "execution_count": 97,
   "id": "3a38c734",
   "metadata": {},
   "outputs": [],
   "source": [
    "# X=df.drop(columns=['label'])\n",
    "# Y=df['label']\n"
   ]
  },
  {
   "cell_type": "code",
   "execution_count": 98,
   "id": "7ebc37b6",
   "metadata": {},
   "outputs": [],
   "source": [
    "# X_train,X_test,Y_train,Y_test=train_test_split(X,Y,test_size=0.2,random_state=42)"
   ]
  },
  {
   "cell_type": "code",
   "execution_count": 99,
   "id": "d27b5508",
   "metadata": {},
   "outputs": [],
   "source": [
    "# sm=SMOTE()\n",
    "# X_train_resamble,Y_train_resamble=sm.fit_resample(X_train,Y_train)"
   ]
  },
  {
   "cell_type": "code",
   "execution_count": 100,
   "id": "9db2bbad",
   "metadata": {},
   "outputs": [],
   "source": [
    "# Y_train_resamble.value_counts()"
   ]
  },
  {
   "cell_type": "code",
   "execution_count": 101,
   "id": "bc2ed650",
   "metadata": {},
   "outputs": [],
   "source": [
    "# rb=RobustScaler()\n",
    "# X_train_scaled=rb.fit_transform(X_train_resamble)\n",
    "# X_test_scaled=rb.transform(X_test)\n"
   ]
  },
  {
   "cell_type": "code",
   "execution_count": 102,
   "id": "c3ef4e37",
   "metadata": {},
   "outputs": [],
   "source": [
    "# rt=RandomForestClassifier()\n",
    "# rt.fit(X_train_scaled,Y_train_resamble)\n",
    "# ypred_rt=rt.predict(X_test_scaled)\n",
    "# rt_accuracy=accuracy_score(Y_test,ypred_rt)\n",
    "# rt_percision=precision_score(Y_test,ypred_rt)\n",
    "# rt_recall=recall_score(Y_test,ypred_rt)\n",
    "# rt_f1=f1_score(Y_test,ypred_rt)\n",
    "# print(\"accuracy : \",rt_accuracy)\n",
    "# print(\"percision : \",rt_percision)\n",
    "# print(\"recall : \",rt_recall)\n",
    "# print(\"f1_score : \",rt_f1)\n"
   ]
  },
  {
   "cell_type": "code",
   "execution_count": 103,
   "id": "3b422c0d",
   "metadata": {},
   "outputs": [],
   "source": [
    "# xgb=xgboost.XGBClassifier(object='multiclass',)\n",
    "# xgb.fit(X_train_scaled,Y_train_resamble)\n",
    "# ypred_xgb=xgb.predict(X_test_scaled)\n",
    "# xgb_accuracy=accuracy_score(Y_test,ypred_xgb)\n",
    "# xgb_percision=precision_score(Y_test,ypred_xgb)\n",
    "# xgb_recall=recall_score(Y_test,ypred_xgb)\n",
    "# xgb_f1=f1_score(Y_test,ypred_xgb)\n",
    "# print(\"accuracy : \",xgb_accuracy)\n",
    "# print(\"percision : \",xgb_percision)\n",
    "# print(\"recall : \",xgb_recall)\n",
    "# print(\"f1_score : \",xgb_f1)\n"
   ]
  },
  {
   "cell_type": "code",
   "execution_count": 104,
   "id": "06208c9a",
   "metadata": {},
   "outputs": [],
   "source": [
    "# lgb = lightgbm.LGBMClassifier(objective='multiclass', class_weight='balanced',num_class=2, random_state=42)\n",
    "# lgb.fit(X_train_scaled,Y_train_resamble)\n",
    "# ypred_lgb = lgb.predict(X_test_scaled)\n",
    "# lgb_accuracy=accuracy_score(Y_test,ypred_lgb)\n",
    "# lgb_percision=precision_score(Y_test,ypred_lgb)\n",
    "# lgb_recall=recall_score(Y_test,ypred_lgb)\n",
    "# lgb_f1=f1_score(Y_test,ypred_lgb)\n",
    "# print(\"accuracy : \",lgb_accuracy)\n",
    "# print(\"percision : \",lgb_percision)\n",
    "# print(\"recall : \",lgb_recall)\n",
    "# print(\"f1_score : \",lgb_f1)\n"
   ]
  },
  {
   "cell_type": "code",
   "execution_count": 105,
   "id": "9bd944c0",
   "metadata": {},
   "outputs": [],
   "source": [
    "# data2 = pd.read_csv(\"D:\\DownLoad\\projects\\Multi_claasification_model\\data\\Z_score.csv\")\n",
    "# df2=pd.DataFrame(data2)\n",
    "# if \"Unnamed: 0\" in df.columns:\n",
    "# \tdf=df.drop(\"Unnamed: 0\", axis=1)\n",
    "# df2['label'].value_counts()"
   ]
  },
  {
   "cell_type": "code",
   "execution_count": 106,
   "id": "3557bbdb",
   "metadata": {},
   "outputs": [],
   "source": [
    "# le=LabelEncoder()\n",
    "# df2['label']=le.fit_transform(df2['label'])\n",
    "# df2.info()"
   ]
  },
  {
   "cell_type": "code",
   "execution_count": 107,
   "id": "446b01a7",
   "metadata": {},
   "outputs": [],
   "source": [
    "# X=df2.drop(columns=['label'])\n",
    "# Y=df2['label']\n"
   ]
  },
  {
   "cell_type": "code",
   "execution_count": 108,
   "id": "7c03a676",
   "metadata": {},
   "outputs": [],
   "source": [
    "# X_train,X_test,Y_train,Y_test=train_test_split(X,Y,test_size=0.2,random_state=42)"
   ]
  },
  {
   "cell_type": "code",
   "execution_count": 109,
   "id": "a856a6a6",
   "metadata": {},
   "outputs": [],
   "source": [
    "# sm=SMOTE()\n",
    "# X_train_resamble,Y_train_resamble=sm.fit_resample(X_train,Y_train)"
   ]
  },
  {
   "cell_type": "code",
   "execution_count": 110,
   "id": "cd7fb499",
   "metadata": {},
   "outputs": [],
   "source": [
    "# Y_train_resamble.value_counts()"
   ]
  },
  {
   "cell_type": "code",
   "execution_count": 111,
   "id": "d17790a8",
   "metadata": {},
   "outputs": [],
   "source": [
    "# rb=RobustScaler()\n",
    "# X_train_scaled=rb.fit_transform(X_train_resamble)\n",
    "# X_test_scaled=rb.transform(X_test)\n"
   ]
  },
  {
   "cell_type": "code",
   "execution_count": 112,
   "id": "ca533617",
   "metadata": {},
   "outputs": [],
   "source": [
    "# rt=RandomForestClassifier()\n",
    "# rt.fit(X_train_scaled,Y_train_resamble)\n",
    "# ypred_rt=rt.predict(X_test_scaled)\n",
    "# rt_accuracy=accuracy_score(Y_test,ypred_rt)\n",
    "# rt_percision=precision_score(Y_test,ypred_rt)\n",
    "# rt_recall=recall_score(Y_test,ypred_rt)\n",
    "# rt_f1=f1_score(Y_test,ypred_rt)\n",
    "# print(\"accuracy : \",rt_accuracy)\n",
    "# print(\"percision : \",rt_percision)\n",
    "# print(\"recall : \",rt_recall)\n",
    "# print(\"f1_score : \",rt_f1)\n"
   ]
  },
  {
   "cell_type": "code",
   "execution_count": 113,
   "id": "e9604af2",
   "metadata": {},
   "outputs": [],
   "source": [
    "# xgb=xgboost.XGBClassifier(object='multiclass',)\n",
    "# xgb.fit(X_train_scaled,Y_train_resamble)\n",
    "# ypred_xgb=xgb.predict(X_test_scaled)\n",
    "# xgb_accuracy=accuracy_score(Y_test,ypred_xgb)\n",
    "# xgb_percision=precision_score(Y_test,ypred_xgb)\n",
    "# xgb_recall=recall_score(Y_test,ypred_xgb)\n",
    "# xgb_f1=f1_score(Y_test,ypred_xgb)\n",
    "# print(\"accuracy : \",xgb_accuracy)\n",
    "# print(\"percision : \",xgb_percision)\n",
    "# print(\"recall : \",xgb_recall)\n",
    "# print(\"f1_score : \",xgb_f1)\n"
   ]
  },
  {
   "cell_type": "code",
   "execution_count": 114,
   "id": "86909a3b",
   "metadata": {},
   "outputs": [],
   "source": [
    "# lgb = lightgbm.LGBMClassifier(objective='multiclass', class_weight='balanced',num_class=6, random_state=42)\n",
    "# lgb.fit(X_train_scaled,Y_train_resamble)\n",
    "# ypred_lgb = lgb.predict(X_test_scaled)\n",
    "# lgb_accuracy=accuracy_score(Y_test,ypred_lgb)\n",
    "# lgb_percision=precision_score(Y_test,ypred_lgb)\n",
    "# lgb_recall=recall_score(Y_test,ypred_lgb)\n",
    "# lgb_f1=f1_score(Y_test,ypred_lgb)\n",
    "# print(\"accuracy : \",lgb_accuracy)\n",
    "# print(\"percision : \",lgb_percision)\n",
    "# print(\"recall : \",lgb_recall)\n",
    "# print(\"f1_score : \",lgb_f1)\n"
   ]
  },
  {
   "cell_type": "code",
   "execution_count": 115,
   "id": "50839fc1",
   "metadata": {},
   "outputs": [
    {
     "name": "stderr",
     "output_type": "stream",
     "text": [
      "<>:1: SyntaxWarning: invalid escape sequence '\\D'\n",
      "<>:1: SyntaxWarning: invalid escape sequence '\\D'\n",
      "C:\\Users\\Omar\\AppData\\Local\\Temp\\ipykernel_25004\\2817899644.py:1: SyntaxWarning: invalid escape sequence '\\D'\n",
      "  data=pd.read_csv(\"D:\\DownLoad\\projects\\Multi_claasification_model\\data\\winsorization_skewness.csv\")\n"
     ]
    }
   ],
   "source": [
    "data=pd.read_csv(\"D:\\DownLoad\\projects\\Multi_claasification_model\\data\\winsorization_skewness.csv\")\n",
    "df=pd.DataFrame(data).drop(columns=\"Unnamed: 0\")\n"
   ]
  },
  {
   "cell_type": "code",
   "execution_count": 116,
   "id": "bbd06a7f",
   "metadata": {},
   "outputs": [
    {
     "name": "stdout",
     "output_type": "stream",
     "text": [
      "<class 'pandas.core.frame.DataFrame'>\n",
      "RangeIndex: 842396 entries, 0 to 842395\n",
      "Data columns (total 22 columns):\n",
      " #   Column            Non-Null Count   Dtype  \n",
      "---  ------            --------------   -----  \n",
      " 0   flow_time         842396 non-null  float64\n",
      " 1   header_size       842396 non-null  float64\n",
      " 2   packet_duration   842396 non-null  float64\n",
      " 3   overall_rate      842396 non-null  float64\n",
      " 4   src_rate          842396 non-null  float64\n",
      " 5   dst_rate          842396 non-null  float64\n",
      " 6   fin_packets       842396 non-null  float64\n",
      " 7   urg_packets       842396 non-null  float64\n",
      " 8   rst_packets       842396 non-null  float64\n",
      " 9   max_value         842396 non-null  float64\n",
      " 10  value_covariance  842396 non-null  float64\n",
      " 11  fin_flags         842396 non-null  int64  \n",
      " 12  syn_flags         842396 non-null  int64  \n",
      " 13  rst_flags         842396 non-null  int64  \n",
      " 14  psh_flags         842396 non-null  int64  \n",
      " 15  ack_flags         842396 non-null  int64  \n",
      " 16  protocol_http     842396 non-null  int64  \n",
      " 17  protocol_https    842396 non-null  int64  \n",
      " 18  protocol_tcp      842396 non-null  int64  \n",
      " 19  protocol_udp      842396 non-null  int64  \n",
      " 20  protocol_icmp     842396 non-null  int64  \n",
      " 21  label             842396 non-null  int64  \n",
      "dtypes: float64(11), int64(11)\n",
      "memory usage: 141.4 MB\n"
     ]
    }
   ],
   "source": [
    "le=LabelEncoder()\n",
    "df['label']=le.fit_transform(df['label'])\n",
    "df.info()"
   ]
  },
  {
   "cell_type": "code",
   "execution_count": 117,
   "id": "cdb4664c",
   "metadata": {},
   "outputs": [],
   "source": [
    "X=df.drop(columns=['label'])\n",
    "Y=df['label']\n"
   ]
  },
  {
   "cell_type": "code",
   "execution_count": 118,
   "id": "ef88d206",
   "metadata": {},
   "outputs": [],
   "source": [
    "X_train,X_test,Y_train,Y_test=train_test_split(X,Y,test_size=0.2,random_state=42)"
   ]
  },
  {
   "cell_type": "code",
   "execution_count": 119,
   "id": "eacb5e93",
   "metadata": {},
   "outputs": [],
   "source": [
    "sm=SMOTE()\n",
    "X_train_resamble,Y_train_resamble=sm.fit_resample(X_train,Y_train)"
   ]
  },
  {
   "cell_type": "code",
   "execution_count": 120,
   "id": "473cca30",
   "metadata": {},
   "outputs": [],
   "source": [
    "from sklearn.preprocessing import StandardScaler\n",
    "scale=StandardScaler()\n",
    "X_train_scale=scale.fit_transform(X_train_resamble)\n",
    "X_test_scale=scale.transform(X_test)"
   ]
  },
  {
   "cell_type": "code",
   "execution_count": 121,
   "id": "9d5ea903",
   "metadata": {},
   "outputs": [
    {
     "name": "stderr",
     "output_type": "stream",
     "text": [
      "d:\\DownLoad\\projects\\Multi_claasification_model\\venv\\Lib\\site-packages\\xgboost\\training.py:183: UserWarning: [23:33:26] WARNING: C:\\actions-runner\\_work\\xgboost\\xgboost\\src\\learner.cc:738: \n",
      "Parameters: { \"object\" } are not used.\n",
      "\n",
      "  bst.update(dtrain, iteration=i, fobj=obj)\n"
     ]
    },
    {
     "name": "stdout",
     "output_type": "stream",
     "text": [
      "accuracy :  0.8275462962962963\n",
      "percision :  0.6171746008391018\n",
      "recall :  0.7613709592620079\n",
      "f1_score :  0.6679998148929737\n"
     ]
    }
   ],
   "source": [
    "xgb=xgboost.XGBClassifier(object='multiclass',)\n",
    "xgb.fit(X_train_scale,Y_train_resamble)\n",
    "ypred_xgb=xgb.predict(X_test_scale)\n",
    "xgb_accuracy=accuracy_score(Y_test,ypred_xgb)\n",
    "xgb_percision=precision_score(Y_test,ypred_xgb,average='macro')\n",
    "xgb_recall=recall_score(Y_test,ypred_xgb,average='macro')\n",
    "xgb_f1=f1_score(Y_test,ypred_xgb,average='macro')\n",
    "print(\"accuracy : \",xgb_accuracy)\n",
    "print(\"percision : \",xgb_percision)\n",
    "print(\"recall : \",xgb_recall)\n",
    "print(\"f1_score : \",xgb_f1)"
   ]
  },
  {
   "cell_type": "code",
   "execution_count": 122,
   "id": "6b368282",
   "metadata": {},
   "outputs": [
    {
     "name": "stdout",
     "output_type": "stream",
     "text": [
      "accuracy :  0.7639304368471035\n",
      "percision :  0.5572958672235201\n",
      "recall :  0.671235113081273\n",
      "f1_score :  0.5864372925978215\n"
     ]
    }
   ],
   "source": [
    "rt=RandomForestClassifier()\n",
    "rt.fit(X_train_scale,Y_train_resamble)\n",
    "ypred_rt=rt.predict(X_test_scale)\n",
    "rt_accuracy=accuracy_score(Y_test,ypred_rt)\n",
    "rt_percision=precision_score(Y_test,ypred_rt,average='macro')\n",
    "rt_recall=recall_score(Y_test,ypred_rt,average='macro')\n",
    "rt_f1=f1_score(Y_test,ypred_rt,average='macro')\n",
    "print(\"accuracy : \",rt_accuracy)\n",
    "print(\"percision : \",rt_percision)\n",
    "print(\"recall : \",rt_recall)\n",
    "print(\"f1_score : \",rt_f1)"
   ]
  },
  {
   "cell_type": "code",
   "execution_count": 123,
   "id": "e34b2862",
   "metadata": {},
   "outputs": [
    {
     "name": "stdout",
     "output_type": "stream",
     "text": [
      "[LightGBM] [Info] Auto-choosing row-wise multi-threading, the overhead of testing was 0.035520 seconds.\n",
      "You can set `force_row_wise=true` to remove the overhead.\n",
      "And if memory is not enough, you can set `force_col_wise=true`.\n",
      "[LightGBM] [Info] Total Bins 1788\n",
      "[LightGBM] [Info] Number of data points in the train set: 2869074, number of used features: 8\n",
      "[LightGBM] [Info] Start training from score -1.791759\n",
      "[LightGBM] [Info] Start training from score -1.791759\n",
      "[LightGBM] [Info] Start training from score -1.791759\n",
      "[LightGBM] [Info] Start training from score -1.791759\n",
      "[LightGBM] [Info] Start training from score -1.791759\n",
      "[LightGBM] [Info] Start training from score -1.791759\n"
     ]
    },
    {
     "name": "stderr",
     "output_type": "stream",
     "text": [
      "d:\\DownLoad\\projects\\Multi_claasification_model\\venv\\Lib\\site-packages\\sklearn\\utils\\validation.py:2739: UserWarning: X does not have valid feature names, but LGBMClassifier was fitted with feature names\n",
      "  warnings.warn(\n"
     ]
    },
    {
     "name": "stdout",
     "output_type": "stream",
     "text": [
      "accuracy :  0.8257775403608737\n",
      "percision :  0.6118355233503942\n",
      "recall :  0.7636704928424664\n",
      "f1_score :  0.6632171348398906\n"
     ]
    }
   ],
   "source": [
    "lgb = lightgbm.LGBMClassifier(objective='multiclass', class_weight='balanced',num_class=6, random_state=42)\n",
    "lgb.fit(X_train_scale,Y_train_resamble)\n",
    "ypred_lgb = lgb.predict(X_test_scale)\n",
    "lgb_accuracy=accuracy_score(Y_test,ypred_lgb)\n",
    "lgb_percision=precision_score(Y_test,ypred_lgb,average='macro')\n",
    "lgb_recall=recall_score(Y_test,ypred_lgb,average='macro')\n",
    "lgb_f1=f1_score(Y_test,ypred_lgb,average='macro')\n",
    "print(\"accuracy : \",lgb_accuracy)\n",
    "print(\"percision : \",lgb_percision)\n",
    "print(\"recall : \",lgb_recall)\n",
    "print(\"f1_score : \",lgb_f1)\n"
   ]
  }
 ],
 "metadata": {
  "kernelspec": {
   "display_name": "venv",
   "language": "python",
   "name": "python3"
  },
  "language_info": {
   "codemirror_mode": {
    "name": "ipython",
    "version": 3
   },
   "file_extension": ".py",
   "mimetype": "text/x-python",
   "name": "python",
   "nbconvert_exporter": "python",
   "pygments_lexer": "ipython3",
   "version": "3.12.7"
  }
 },
 "nbformat": 4,
 "nbformat_minor": 5
}
